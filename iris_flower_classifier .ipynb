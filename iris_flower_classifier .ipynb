{
 "cells": [
  {
   "cell_type": "markdown",
   "id": "6cb5d1ea",
   "metadata": {},
   "source": [
    "# Classification Model for Iris Dataset \n",
    "\n",
    "*Saimat Balabekova* \n",
    "<img src=\"https://www.almanac.com/sites/default/files/image_nodes/iris-flowers.jpg\" width=\"300\" height=\"auto\" style=\"border-radius:50%\">\n",
    "\n",
    "\n",
    "\n",
    "\n",
    "<div style=\"text-align: justify\">In this Jupyter notebook I will attempt to implement the Random Forest Algorithm on The Iris Flower Dataset using a Scikit-learn package in Python. The Iris Flower dataset comes with the Scikit-Learn package itself, meaning that it is clean enough to be used for training an ML model. This is useful for the scope of this project as it will allows me to explore the Scikit-learn package and focus on the nature of Random Forest Algorithm without spending time on obtaining, cleaning and transforming data.\n",
    "\n",
    "    \n",
    "**Objective:** To build a model that allows us to predict the type of an Iris flower based on its Petal and Sepal features such as length and width.  </div> "
   ]
  },
  {
   "cell_type": "markdown",
   "id": "9b294ab4",
   "metadata": {},
   "source": [
    "## Getting Started"
   ]
  },
  {
   "cell_type": "markdown",
   "id": "d80e3536",
   "metadata": {},
   "source": [
    "In order to start I must begin with importing all the libraries needed:"
   ]
  },
  {
   "cell_type": "code",
   "execution_count": 1,
   "id": "c8de75be",
   "metadata": {},
   "outputs": [],
   "source": [
    "from sklearn import datasets\n",
    "from sklearn.model_selection import train_test_split\n",
    "from sklearn.ensemble import RandomForestClassifier\n",
    "from sklearn.datasets import make_classification\n",
    "import pandas as pd"
   ]
  },
  {
   "cell_type": "markdown",
   "id": "cec50abf",
   "metadata": {},
   "source": [
    "Having imported the libraries, I am going to load the Iris dataset. To do so I will use *Datasets* submodule in Scikit-Learn and within it use *load_iris* fucntion:\n",
    "\n"
   ]
  },
  {
   "cell_type": "code",
   "execution_count": 2,
   "id": "31ff0179",
   "metadata": {},
   "outputs": [],
   "source": [
    "iris = datasets.load_iris()"
   ]
  },
  {
   "cell_type": "markdown",
   "id": "81923e13",
   "metadata": {},
   "source": [
    "## Iris Dataset Genral Overview"
   ]
  },
  {
   "cell_type": "markdown",
   "id": "404c6c39",
   "metadata": {},
   "source": [
    "Below is the overview of the Iris Flower Dataset:"
   ]
  },
  {
   "cell_type": "code",
   "execution_count": 3,
   "id": "3167573c",
   "metadata": {},
   "outputs": [
    {
     "data": {
      "text/plain": [
       "{'data': array([[5.1, 3.5, 1.4, 0.2],\n",
       "        [4.9, 3. , 1.4, 0.2],\n",
       "        [4.7, 3.2, 1.3, 0.2],\n",
       "        [4.6, 3.1, 1.5, 0.2],\n",
       "        [5. , 3.6, 1.4, 0.2],\n",
       "        [5.4, 3.9, 1.7, 0.4],\n",
       "        [4.6, 3.4, 1.4, 0.3],\n",
       "        [5. , 3.4, 1.5, 0.2],\n",
       "        [4.4, 2.9, 1.4, 0.2],\n",
       "        [4.9, 3.1, 1.5, 0.1],\n",
       "        [5.4, 3.7, 1.5, 0.2],\n",
       "        [4.8, 3.4, 1.6, 0.2],\n",
       "        [4.8, 3. , 1.4, 0.1],\n",
       "        [4.3, 3. , 1.1, 0.1],\n",
       "        [5.8, 4. , 1.2, 0.2],\n",
       "        [5.7, 4.4, 1.5, 0.4],\n",
       "        [5.4, 3.9, 1.3, 0.4],\n",
       "        [5.1, 3.5, 1.4, 0.3],\n",
       "        [5.7, 3.8, 1.7, 0.3],\n",
       "        [5.1, 3.8, 1.5, 0.3],\n",
       "        [5.4, 3.4, 1.7, 0.2],\n",
       "        [5.1, 3.7, 1.5, 0.4],\n",
       "        [4.6, 3.6, 1. , 0.2],\n",
       "        [5.1, 3.3, 1.7, 0.5],\n",
       "        [4.8, 3.4, 1.9, 0.2],\n",
       "        [5. , 3. , 1.6, 0.2],\n",
       "        [5. , 3.4, 1.6, 0.4],\n",
       "        [5.2, 3.5, 1.5, 0.2],\n",
       "        [5.2, 3.4, 1.4, 0.2],\n",
       "        [4.7, 3.2, 1.6, 0.2],\n",
       "        [4.8, 3.1, 1.6, 0.2],\n",
       "        [5.4, 3.4, 1.5, 0.4],\n",
       "        [5.2, 4.1, 1.5, 0.1],\n",
       "        [5.5, 4.2, 1.4, 0.2],\n",
       "        [4.9, 3.1, 1.5, 0.2],\n",
       "        [5. , 3.2, 1.2, 0.2],\n",
       "        [5.5, 3.5, 1.3, 0.2],\n",
       "        [4.9, 3.6, 1.4, 0.1],\n",
       "        [4.4, 3. , 1.3, 0.2],\n",
       "        [5.1, 3.4, 1.5, 0.2],\n",
       "        [5. , 3.5, 1.3, 0.3],\n",
       "        [4.5, 2.3, 1.3, 0.3],\n",
       "        [4.4, 3.2, 1.3, 0.2],\n",
       "        [5. , 3.5, 1.6, 0.6],\n",
       "        [5.1, 3.8, 1.9, 0.4],\n",
       "        [4.8, 3. , 1.4, 0.3],\n",
       "        [5.1, 3.8, 1.6, 0.2],\n",
       "        [4.6, 3.2, 1.4, 0.2],\n",
       "        [5.3, 3.7, 1.5, 0.2],\n",
       "        [5. , 3.3, 1.4, 0.2],\n",
       "        [7. , 3.2, 4.7, 1.4],\n",
       "        [6.4, 3.2, 4.5, 1.5],\n",
       "        [6.9, 3.1, 4.9, 1.5],\n",
       "        [5.5, 2.3, 4. , 1.3],\n",
       "        [6.5, 2.8, 4.6, 1.5],\n",
       "        [5.7, 2.8, 4.5, 1.3],\n",
       "        [6.3, 3.3, 4.7, 1.6],\n",
       "        [4.9, 2.4, 3.3, 1. ],\n",
       "        [6.6, 2.9, 4.6, 1.3],\n",
       "        [5.2, 2.7, 3.9, 1.4],\n",
       "        [5. , 2. , 3.5, 1. ],\n",
       "        [5.9, 3. , 4.2, 1.5],\n",
       "        [6. , 2.2, 4. , 1. ],\n",
       "        [6.1, 2.9, 4.7, 1.4],\n",
       "        [5.6, 2.9, 3.6, 1.3],\n",
       "        [6.7, 3.1, 4.4, 1.4],\n",
       "        [5.6, 3. , 4.5, 1.5],\n",
       "        [5.8, 2.7, 4.1, 1. ],\n",
       "        [6.2, 2.2, 4.5, 1.5],\n",
       "        [5.6, 2.5, 3.9, 1.1],\n",
       "        [5.9, 3.2, 4.8, 1.8],\n",
       "        [6.1, 2.8, 4. , 1.3],\n",
       "        [6.3, 2.5, 4.9, 1.5],\n",
       "        [6.1, 2.8, 4.7, 1.2],\n",
       "        [6.4, 2.9, 4.3, 1.3],\n",
       "        [6.6, 3. , 4.4, 1.4],\n",
       "        [6.8, 2.8, 4.8, 1.4],\n",
       "        [6.7, 3. , 5. , 1.7],\n",
       "        [6. , 2.9, 4.5, 1.5],\n",
       "        [5.7, 2.6, 3.5, 1. ],\n",
       "        [5.5, 2.4, 3.8, 1.1],\n",
       "        [5.5, 2.4, 3.7, 1. ],\n",
       "        [5.8, 2.7, 3.9, 1.2],\n",
       "        [6. , 2.7, 5.1, 1.6],\n",
       "        [5.4, 3. , 4.5, 1.5],\n",
       "        [6. , 3.4, 4.5, 1.6],\n",
       "        [6.7, 3.1, 4.7, 1.5],\n",
       "        [6.3, 2.3, 4.4, 1.3],\n",
       "        [5.6, 3. , 4.1, 1.3],\n",
       "        [5.5, 2.5, 4. , 1.3],\n",
       "        [5.5, 2.6, 4.4, 1.2],\n",
       "        [6.1, 3. , 4.6, 1.4],\n",
       "        [5.8, 2.6, 4. , 1.2],\n",
       "        [5. , 2.3, 3.3, 1. ],\n",
       "        [5.6, 2.7, 4.2, 1.3],\n",
       "        [5.7, 3. , 4.2, 1.2],\n",
       "        [5.7, 2.9, 4.2, 1.3],\n",
       "        [6.2, 2.9, 4.3, 1.3],\n",
       "        [5.1, 2.5, 3. , 1.1],\n",
       "        [5.7, 2.8, 4.1, 1.3],\n",
       "        [6.3, 3.3, 6. , 2.5],\n",
       "        [5.8, 2.7, 5.1, 1.9],\n",
       "        [7.1, 3. , 5.9, 2.1],\n",
       "        [6.3, 2.9, 5.6, 1.8],\n",
       "        [6.5, 3. , 5.8, 2.2],\n",
       "        [7.6, 3. , 6.6, 2.1],\n",
       "        [4.9, 2.5, 4.5, 1.7],\n",
       "        [7.3, 2.9, 6.3, 1.8],\n",
       "        [6.7, 2.5, 5.8, 1.8],\n",
       "        [7.2, 3.6, 6.1, 2.5],\n",
       "        [6.5, 3.2, 5.1, 2. ],\n",
       "        [6.4, 2.7, 5.3, 1.9],\n",
       "        [6.8, 3. , 5.5, 2.1],\n",
       "        [5.7, 2.5, 5. , 2. ],\n",
       "        [5.8, 2.8, 5.1, 2.4],\n",
       "        [6.4, 3.2, 5.3, 2.3],\n",
       "        [6.5, 3. , 5.5, 1.8],\n",
       "        [7.7, 3.8, 6.7, 2.2],\n",
       "        [7.7, 2.6, 6.9, 2.3],\n",
       "        [6. , 2.2, 5. , 1.5],\n",
       "        [6.9, 3.2, 5.7, 2.3],\n",
       "        [5.6, 2.8, 4.9, 2. ],\n",
       "        [7.7, 2.8, 6.7, 2. ],\n",
       "        [6.3, 2.7, 4.9, 1.8],\n",
       "        [6.7, 3.3, 5.7, 2.1],\n",
       "        [7.2, 3.2, 6. , 1.8],\n",
       "        [6.2, 2.8, 4.8, 1.8],\n",
       "        [6.1, 3. , 4.9, 1.8],\n",
       "        [6.4, 2.8, 5.6, 2.1],\n",
       "        [7.2, 3. , 5.8, 1.6],\n",
       "        [7.4, 2.8, 6.1, 1.9],\n",
       "        [7.9, 3.8, 6.4, 2. ],\n",
       "        [6.4, 2.8, 5.6, 2.2],\n",
       "        [6.3, 2.8, 5.1, 1.5],\n",
       "        [6.1, 2.6, 5.6, 1.4],\n",
       "        [7.7, 3. , 6.1, 2.3],\n",
       "        [6.3, 3.4, 5.6, 2.4],\n",
       "        [6.4, 3.1, 5.5, 1.8],\n",
       "        [6. , 3. , 4.8, 1.8],\n",
       "        [6.9, 3.1, 5.4, 2.1],\n",
       "        [6.7, 3.1, 5.6, 2.4],\n",
       "        [6.9, 3.1, 5.1, 2.3],\n",
       "        [5.8, 2.7, 5.1, 1.9],\n",
       "        [6.8, 3.2, 5.9, 2.3],\n",
       "        [6.7, 3.3, 5.7, 2.5],\n",
       "        [6.7, 3. , 5.2, 2.3],\n",
       "        [6.3, 2.5, 5. , 1.9],\n",
       "        [6.5, 3. , 5.2, 2. ],\n",
       "        [6.2, 3.4, 5.4, 2.3],\n",
       "        [5.9, 3. , 5.1, 1.8]]),\n",
       " 'target': array([0, 0, 0, 0, 0, 0, 0, 0, 0, 0, 0, 0, 0, 0, 0, 0, 0, 0, 0, 0, 0, 0,\n",
       "        0, 0, 0, 0, 0, 0, 0, 0, 0, 0, 0, 0, 0, 0, 0, 0, 0, 0, 0, 0, 0, 0,\n",
       "        0, 0, 0, 0, 0, 0, 1, 1, 1, 1, 1, 1, 1, 1, 1, 1, 1, 1, 1, 1, 1, 1,\n",
       "        1, 1, 1, 1, 1, 1, 1, 1, 1, 1, 1, 1, 1, 1, 1, 1, 1, 1, 1, 1, 1, 1,\n",
       "        1, 1, 1, 1, 1, 1, 1, 1, 1, 1, 1, 1, 2, 2, 2, 2, 2, 2, 2, 2, 2, 2,\n",
       "        2, 2, 2, 2, 2, 2, 2, 2, 2, 2, 2, 2, 2, 2, 2, 2, 2, 2, 2, 2, 2, 2,\n",
       "        2, 2, 2, 2, 2, 2, 2, 2, 2, 2, 2, 2, 2, 2, 2, 2, 2, 2]),\n",
       " 'frame': None,\n",
       " 'target_names': array(['setosa', 'versicolor', 'virginica'], dtype='<U10'),\n",
       " 'DESCR': '.. _iris_dataset:\\n\\nIris plants dataset\\n--------------------\\n\\n**Data Set Characteristics:**\\n\\n    :Number of Instances: 150 (50 in each of three classes)\\n    :Number of Attributes: 4 numeric, predictive attributes and the class\\n    :Attribute Information:\\n        - sepal length in cm\\n        - sepal width in cm\\n        - petal length in cm\\n        - petal width in cm\\n        - class:\\n                - Iris-Setosa\\n                - Iris-Versicolour\\n                - Iris-Virginica\\n                \\n    :Summary Statistics:\\n\\n    ============== ==== ==== ======= ===== ====================\\n                    Min  Max   Mean    SD   Class Correlation\\n    ============== ==== ==== ======= ===== ====================\\n    sepal length:   4.3  7.9   5.84   0.83    0.7826\\n    sepal width:    2.0  4.4   3.05   0.43   -0.4194\\n    petal length:   1.0  6.9   3.76   1.76    0.9490  (high!)\\n    petal width:    0.1  2.5   1.20   0.76    0.9565  (high!)\\n    ============== ==== ==== ======= ===== ====================\\n\\n    :Missing Attribute Values: None\\n    :Class Distribution: 33.3% for each of 3 classes.\\n    :Creator: R.A. Fisher\\n    :Donor: Michael Marshall (MARSHALL%PLU@io.arc.nasa.gov)\\n    :Date: July, 1988\\n\\nThe famous Iris database, first used by Sir R.A. Fisher. The dataset is taken\\nfrom Fisher\\'s paper. Note that it\\'s the same as in R, but not as in the UCI\\nMachine Learning Repository, which has two wrong data points.\\n\\nThis is perhaps the best known database to be found in the\\npattern recognition literature.  Fisher\\'s paper is a classic in the field and\\nis referenced frequently to this day.  (See Duda & Hart, for example.)  The\\ndata set contains 3 classes of 50 instances each, where each class refers to a\\ntype of iris plant.  One class is linearly separable from the other 2; the\\nlatter are NOT linearly separable from each other.\\n\\n.. topic:: References\\n\\n   - Fisher, R.A. \"The use of multiple measurements in taxonomic problems\"\\n     Annual Eugenics, 7, Part II, 179-188 (1936); also in \"Contributions to\\n     Mathematical Statistics\" (John Wiley, NY, 1950).\\n   - Duda, R.O., & Hart, P.E. (1973) Pattern Classification and Scene Analysis.\\n     (Q327.D83) John Wiley & Sons.  ISBN 0-471-22361-1.  See page 218.\\n   - Dasarathy, B.V. (1980) \"Nosing Around the Neighborhood: A New System\\n     Structure and Classification Rule for Recognition in Partially Exposed\\n     Environments\".  IEEE Transactions on Pattern Analysis and Machine\\n     Intelligence, Vol. PAMI-2, No. 1, 67-71.\\n   - Gates, G.W. (1972) \"The Reduced Nearest Neighbor Rule\".  IEEE Transactions\\n     on Information Theory, May 1972, 431-433.\\n   - See also: 1988 MLC Proceedings, 54-64.  Cheeseman et al\"s AUTOCLASS II\\n     conceptual clustering system finds 3 classes in the data.\\n   - Many, many more ...',\n",
       " 'feature_names': ['sepal length (cm)',\n",
       "  'sepal width (cm)',\n",
       "  'petal length (cm)',\n",
       "  'petal width (cm)'],\n",
       " 'filename': 'iris.csv',\n",
       " 'data_module': 'sklearn.datasets.data'}"
      ]
     },
     "execution_count": 3,
     "metadata": {},
     "output_type": "execute_result"
    }
   ],
   "source": [
    "iris"
   ]
  },
  {
   "cell_type": "code",
   "execution_count": 22,
   "id": "99bb87ba",
   "metadata": {},
   "outputs": [
    {
     "data": {
      "text/plain": [
       "150"
      ]
     },
     "execution_count": 22,
     "metadata": {},
     "output_type": "execute_result"
    }
   ],
   "source": [
    "len(iris.data)# samples of the Iris flower"
   ]
  },
  {
   "cell_type": "code",
   "execution_count": 5,
   "id": "de33a714",
   "metadata": {},
   "outputs": [
    {
     "name": "stdout",
     "output_type": "stream",
     "text": [
      "['sepal length (cm)', 'sepal width (cm)', 'petal length (cm)', 'petal width (cm)']\n"
     ]
    }
   ],
   "source": [
    "print(iris.feature_names) # future input parameters"
   ]
  },
  {
   "cell_type": "code",
   "execution_count": 6,
   "id": "3ee7ad10",
   "metadata": {},
   "outputs": [
    {
     "name": "stdout",
     "output_type": "stream",
     "text": [
      "['setosa' 'versicolor' 'virginica']\n",
      "[0 0 0 0 0 0 0 0 0 0 0 0 0 0 0 0 0 0 0 0 0 0 0 0 0 0 0 0 0 0 0 0 0 0 0 0 0\n",
      " 0 0 0 0 0 0 0 0 0 0 0 0 0 1 1 1 1 1 1 1 1 1 1 1 1 1 1 1 1 1 1 1 1 1 1 1 1\n",
      " 1 1 1 1 1 1 1 1 1 1 1 1 1 1 1 1 1 1 1 1 1 1 1 1 1 1 2 2 2 2 2 2 2 2 2 2 2\n",
      " 2 2 2 2 2 2 2 2 2 2 2 2 2 2 2 2 2 2 2 2 2 2 2 2 2 2 2 2 2 2 2 2 2 2 2 2 2\n",
      " 2 2]\n"
     ]
    }
   ],
   "source": [
    "# target_names and target represent the same information but in different formats(i.e. in str and int respectively)\n",
    "print(iris.target_names)\n",
    "print (iris.target)"
   ]
  },
  {
   "cell_type": "code",
   "execution_count": 7,
   "id": "58d912eb",
   "metadata": {},
   "outputs": [
    {
     "data": {
      "text/html": [
       "<div>\n",
       "<style scoped>\n",
       "    .dataframe tbody tr th:only-of-type {\n",
       "        vertical-align: middle;\n",
       "    }\n",
       "\n",
       "    .dataframe tbody tr th {\n",
       "        vertical-align: top;\n",
       "    }\n",
       "\n",
       "    .dataframe thead th {\n",
       "        text-align: right;\n",
       "    }\n",
       "</style>\n",
       "<table border=\"1\" class=\"dataframe\">\n",
       "  <thead>\n",
       "    <tr style=\"text-align: right;\">\n",
       "      <th></th>\n",
       "      <th>sepal length</th>\n",
       "      <th>sepal width</th>\n",
       "      <th>petal length</th>\n",
       "      <th>petal width</th>\n",
       "      <th>species</th>\n",
       "    </tr>\n",
       "  </thead>\n",
       "  <tbody>\n",
       "    <tr>\n",
       "      <th>0</th>\n",
       "      <td>5.1</td>\n",
       "      <td>3.5</td>\n",
       "      <td>1.4</td>\n",
       "      <td>0.2</td>\n",
       "      <td>0</td>\n",
       "    </tr>\n",
       "    <tr>\n",
       "      <th>1</th>\n",
       "      <td>4.9</td>\n",
       "      <td>3.0</td>\n",
       "      <td>1.4</td>\n",
       "      <td>0.2</td>\n",
       "      <td>0</td>\n",
       "    </tr>\n",
       "    <tr>\n",
       "      <th>2</th>\n",
       "      <td>4.7</td>\n",
       "      <td>3.2</td>\n",
       "      <td>1.3</td>\n",
       "      <td>0.2</td>\n",
       "      <td>0</td>\n",
       "    </tr>\n",
       "    <tr>\n",
       "      <th>3</th>\n",
       "      <td>4.6</td>\n",
       "      <td>3.1</td>\n",
       "      <td>1.5</td>\n",
       "      <td>0.2</td>\n",
       "      <td>0</td>\n",
       "    </tr>\n",
       "    <tr>\n",
       "      <th>4</th>\n",
       "      <td>5.0</td>\n",
       "      <td>3.6</td>\n",
       "      <td>1.4</td>\n",
       "      <td>0.2</td>\n",
       "      <td>0</td>\n",
       "    </tr>\n",
       "  </tbody>\n",
       "</table>\n",
       "</div>"
      ],
      "text/plain": [
       "   sepal length  sepal width  petal length  petal width  species\n",
       "0           5.1          3.5           1.4          0.2        0\n",
       "1           4.9          3.0           1.4          0.2        0\n",
       "2           4.7          3.2           1.3          0.2        0\n",
       "3           4.6          3.1           1.5          0.2        0\n",
       "4           5.0          3.6           1.4          0.2        0"
      ]
     },
     "execution_count": 7,
     "metadata": {},
     "output_type": "execute_result"
    }
   ],
   "source": [
    "#creating a dataframe for visual scoping of the data\n",
    "\n",
    "df=pd.DataFrame({\n",
    "    'sepal length':iris.data[:,0],\n",
    "    'sepal width':iris.data[:,1],\n",
    "    'petal length':iris.data[:,2],\n",
    "    'petal width':iris.data[:,3],\n",
    "    'species':iris.target\n",
    "})\n",
    "df.head()"
   ]
  },
  {
   "cell_type": "markdown",
   "id": "b3a4a5a6",
   "metadata": {},
   "source": [
    "\n",
    "Upon the first look we can see: \n",
    "1. the *\"data\"* array which composits of a 150 flowers\n",
    "2. the *\"target\"* array that represents various class labels such as 0,1,2 \n",
    "3. the *\"target_names\"* array which correspond to the class labels above such as 'setosa', 'versicolor', 'virginica'\n",
    "\n",
    "\n",
    "Additionally, the dataset contains a list of \"feature_names\"  which represents the 4 characteristics of Iris Flower such as: \"sepal Length\"(cm),\"sepal width\"(cm); \"petal length\"(cm) and \"petal width\"(cm). \n",
    "\n",
    "Thus, **The Iris Dataset gives us 1 class output variable( i.e.\"target\"/\"target_names\") and  4 input features (i.e. \"feature_names\").** This will inform the parameters used for out Classification Model. "
   ]
  },
  {
   "cell_type": "markdown",
   "id": "693c0bbc",
   "metadata": {},
   "source": [
    "## *Input* and *Output* variables"
   ]
  },
  {
   "cell_type": "markdown",
   "id": "244ddf18",
   "metadata": {},
   "source": [
    "For future use, let us assign **X** and **y** to be our *Input*(i.e.\"feature_names\") and to the *Output*(i.e.\"target\") variables:"
   ]
  },
  {
   "cell_type": "code",
   "execution_count": 8,
   "id": "f2e024e1",
   "metadata": {},
   "outputs": [],
   "source": [
    "X=df[['sepal length', 'sepal width', 'petal length', 'petal width']]  # input features\n",
    "y=df['species']  # output\n"
   ]
  },
  {
   "cell_type": "code",
   "execution_count": 9,
   "id": "b7675f4f",
   "metadata": {},
   "outputs": [
    {
     "data": {
      "text/plain": [
       "(150, 4)"
      ]
     },
     "execution_count": 9,
     "metadata": {},
     "output_type": "execute_result"
    }
   ],
   "source": [
    "X.shape\n",
    "#150 rows and 4 columns for features"
   ]
  },
  {
   "cell_type": "code",
   "execution_count": 10,
   "id": "025bb46a",
   "metadata": {},
   "outputs": [
    {
     "data": {
      "text/plain": [
       "(150,)"
      ]
     },
     "execution_count": 10,
     "metadata": {},
     "output_type": "execute_result"
    }
   ],
   "source": [
    "y.shape\n",
    "#150 rows and only 1 column"
   ]
  },
  {
   "cell_type": "markdown",
   "id": "e1b4aa25",
   "metadata": {},
   "source": [
    "Thus **X** will contain 4 input features whereas the **y** will contain 1 feature. This makes up to a toal of 5 features over a 150 samples of Iris flowers, where each flower can be classified as either: *Iris Setosa*; *Iris Versicolor* or *Iris Virginica*."
   ]
  },
  {
   "cell_type": "markdown",
   "id": "5f3d4097",
   "metadata": {},
   "source": [
    "## *Splitting* and *Training* the dataset"
   ]
  },
  {
   "cell_type": "markdown",
   "id": "da2e2feb",
   "metadata": {},
   "source": [
    "I have chosen to split the dataset  into a *training set* and a *test set*. This is done for the purpose of an unbiased evaluation of prediction performance. The *Training set* is applied to fit a model whilst a *test set* is used for an independent assessment of the final model. To do so I will use the *model selection package* of scikit-learn, in particular on the function **train_test_split()**:"
   ]
  },
  {
   "cell_type": "code",
   "execution_count": 11,
   "id": "dce0d354",
   "metadata": {},
   "outputs": [],
   "source": [
    "X_train, X_test, y_train, y_test = train_test_split(X, y, test_size = 0.3) "
   ]
  },
  {
   "cell_type": "markdown",
   "id": "0a3e4c02",
   "metadata": {},
   "source": [
    "The Test_Size value of 0.3 indicates to us the size of the test set. We can think of a 0.3 test size as 30%, with the remainder in this case (70%) indicating the training size."
   ]
  },
  {
   "cell_type": "markdown",
   "id": "f055999f",
   "metadata": {},
   "source": [
    "## Using *Random Forest Algorithm* for Classification Model "
   ]
  },
  {
   "cell_type": "markdown",
   "id": "6fb4e913",
   "metadata": {},
   "source": [
    "<img src=\"https://miro.medium.com/max/1280/1*9kACduxnce_JdTrftM_bsA.gif\" width=\"300\" height=\"auto\" style=\"border:50%\">\n",
    "\n",
    "To build our Classification Model I will use a *Random Forest* algorithm. \n",
    "\n",
    "Before utilising this algorithm we must first understand its basic principles. \n",
    "\n",
    "*Random Forest* algorithm is made up of many Decision Trees which operate together thereby producing a strong \"collective\" guess. When used for Classification Models, all Decision Trees in the algorithm produce a class prediction with the most commonly chosen class becoming the prediction of the overall model. \n",
    "\n",
    "Fundamentally, a *Random Forest* algorithm prediction is effective due to the *low correlation* between each class predictions produced by individual Decision Trees. In other words, each Decision Tree in a Random Forest algorithm makes up for the errors from other Trees. Although some class predictions of Decision Trees will be incorrect, a substantial number of predictions will be correct, moving the collective group of Trees in the right direction.\n",
    "\n",
    "\n"
   ]
  },
  {
   "cell_type": "markdown",
   "id": "290d4d8e",
   "metadata": {},
   "source": [
    "Having covered the basic principles of a *Random Forest* algorithm, let us apply it to the Iris Flower Dataset using the **X** and **y** variables we have assigned earlier:"
   ]
  },
  {
   "cell_type": "code",
   "execution_count": 12,
   "id": "d8b4c457",
   "metadata": {},
   "outputs": [],
   "source": [
    "clf=RandomForestClassifier(n_estimators=100)"
   ]
  },
  {
   "cell_type": "markdown",
   "id": "fb5c0e23",
   "metadata": {},
   "source": [
    "The **n_estimators** above is the number of Decision Trees used for our model. The larger this number the slower the model, in this case we are using 100 Decision Trees for our *Random Forest*."
   ]
  },
  {
   "cell_type": "markdown",
   "id": "5568f12f",
   "metadata": {},
   "source": [
    "The Classification Model (clf) is trained using the **X** and **y** training sets created above:"
   ]
  },
  {
   "cell_type": "code",
   "execution_count": 13,
   "id": "977f747f",
   "metadata": {},
   "outputs": [
    {
     "data": {
      "text/plain": [
       "RandomForestClassifier()"
      ]
     },
     "execution_count": 13,
     "metadata": {},
     "output_type": "execute_result"
    }
   ],
   "source": [
    "clf.fit(X_train,y_train)"
   ]
  },
  {
   "cell_type": "markdown",
   "id": "2201865c",
   "metadata": {},
   "source": [
    "Let us create a predicted value of **y** (*i.e. y_pred*) based on the input of **X** testing set (*i.e.X-test*) using a Random Forest Predict function:"
   ]
  },
  {
   "cell_type": "code",
   "execution_count": 14,
   "id": "d5694a91",
   "metadata": {},
   "outputs": [],
   "source": [
    "y_pred=clf.predict(X_test)"
   ]
  },
  {
   "cell_type": "markdown",
   "id": "1d3f3934",
   "metadata": {},
   "source": [
    "As indicated above, our *Random Forest* generates the predicted value of y( i.e. classification of the Iris Flower) by using the predict function on the X input( i.e. the features of the Iris Flower)."
   ]
  },
  {
   "cell_type": "markdown",
   "id": "5c65e0ab",
   "metadata": {},
   "source": [
    "## Prediction of the Classification"
   ]
  },
  {
   "cell_type": "markdown",
   "id": "b94f7d35",
   "metadata": {},
   "source": [
    "Using the code from above we can input a random array of X values of our choice and predict the classification of the Iris Flower at hand. We should bear in mind that the model is using the numerical representation of the Iris Flower Class. Thus the first prediction we obtain is the number of the class. Having found the predicted numeric value of the class to which our hypothetical Iris flower belongs to, we can match it to the appropriate Class name:"
   ]
  },
  {
   "cell_type": "code",
   "execution_count": 15,
   "id": "cf3a22e7",
   "metadata": {},
   "outputs": [
    {
     "name": "stdout",
     "output_type": "stream",
     "text": [
      "2\n"
     ]
    },
    {
     "name": "stderr",
     "output_type": "stream",
     "text": [
      "C:\\Users\\saima\\AppData\\Local\\Programs\\Python\\Python310\\lib\\site-packages\\sklearn\\base.py:445: UserWarning: X does not have valid feature names, but RandomForestClassifier was fitted with feature names\n",
      "  warnings.warn(\n"
     ]
    },
    {
     "data": {
      "text/plain": [
       "'virginica'"
      ]
     },
     "execution_count": 15,
     "metadata": {},
     "output_type": "execute_result"
    }
   ],
   "source": [
    "iris_species_index = clf.predict([[3,3,4,5]])[0]\n",
    "print(iris_species_index)\n",
    "\n",
    "iris.target_names[iris_species_index]"
   ]
  },
  {
   "cell_type": "markdown",
   "id": "950c16c3",
   "metadata": {},
   "source": [
    "## Evaluating the Accuracy of the Model"
   ]
  },
  {
   "cell_type": "markdown",
   "id": "e0cdb68e",
   "metadata": {},
   "source": [
    "To assess and calculate the accuracy of our model we will have to import *metrics* package from Scikit-learn:"
   ]
  },
  {
   "cell_type": "code",
   "execution_count": 16,
   "id": "031b8ef5",
   "metadata": {},
   "outputs": [],
   "source": [
    "from sklearn import metrics"
   ]
  },
  {
   "cell_type": "markdown",
   "id": "08fde224",
   "metadata": {},
   "source": [
    "Then we must use a *metrics accuracy_score* function of the y testing set( i.e. *y_test*) against the predicted y value of our model( i.e. *y_pred*):"
   ]
  },
  {
   "cell_type": "code",
   "execution_count": 17,
   "id": "5be0592b",
   "metadata": {},
   "outputs": [
    {
     "name": "stdout",
     "output_type": "stream",
     "text": [
      "[2, 2, 1, 0, 1, 1, 1, 0, 1, 0, 2, 0, 1, 1, 2, 1, 2, 1, 1, 1, 2, 0, 1, 1, 1, 0, 1, 2, 0, 0, 1, 2, 2, 2, 2, 2, 0, 0, 2, 1, 0, 1, 0, 0, 0]\n",
      "[2, 2, 1, 0, 1, 1, 1, 0, 1, 0, 2, 0, 1, 1, 2, 1, 2, 1, 1, 1, 2, 0, 1, 1, 1, 0, 1, 1, 0, 0, 1, 2, 2, 2, 1, 2, 0, 0, 2, 1, 0, 1, 0, 0, 0]\n"
     ]
    }
   ],
   "source": [
    "print(list(y_test))\n",
    "print(list(y_pred))"
   ]
  },
  {
   "cell_type": "code",
   "execution_count": 18,
   "id": "258b3a0b",
   "metadata": {},
   "outputs": [
    {
     "name": "stdout",
     "output_type": "stream",
     "text": [
      "Accuracy: 0.9555555555555556\n"
     ]
    }
   ],
   "source": [
    "print(\"Accuracy:\",metrics.accuracy_score(y_test, y_pred))"
   ]
  },
  {
   "cell_type": "markdown",
   "id": "0f4e06ea",
   "metadata": {},
   "source": [
    "What the metrics accuracy_score function shows the percentage of correct predictions. This also could be simply found by a few lines of code below:"
   ]
  },
  {
   "cell_type": "code",
   "execution_count": 19,
   "id": "75955733",
   "metadata": {},
   "outputs": [
    {
     "name": "stdout",
     "output_type": "stream",
     "text": [
      "Accuracy: 0.9555555555555556\n"
     ]
    }
   ],
   "source": [
    "total = len(y_pred)\n",
    "correct = 0\n",
    "\n",
    "for i in range(total):\n",
    "    if list(y_test)[i] == list(y_pred)[i]:\n",
    "        correct += 1\n",
    "    \n",
    "accuracy = correct / total \n",
    "print(\"Accuracy: \"+ str(accuracy))"
   ]
  },
  {
   "cell_type": "markdown",
   "id": "6b87be77",
   "metadata": {},
   "source": [
    "The metrics accuracy function as well as my own calculations conclude that the accuracy of the Iris classification model is over 90%.We should note that the accuracy of the model will vary every time you run the code because of the nature of *Random Forest* algorithm. For that reason it is important to double check the *metrics.accuracy_score* function from Scikit Learn with your own calculations as I have done above. "
   ]
  },
  {
   "cell_type": "markdown",
   "id": "c92f7ae1",
   "metadata": {},
   "source": [
    "## Significant Parameters"
   ]
  },
  {
   "cell_type": "markdown",
   "id": "b97db74f",
   "metadata": {},
   "source": [
    "Having evaluated the accuracy of the model we may be interested in considering which input parameters play the most significant role in determining our predictions. "
   ]
  },
  {
   "cell_type": "code",
   "execution_count": 20,
   "id": "768f7427",
   "metadata": {},
   "outputs": [
    {
     "data": {
      "text/plain": [
       "Index(['petal width (cm)', 'petal length (cm)', 'sepal length (cm)',\n",
       "       'sepal width (cm)'],\n",
       "      dtype='object')"
      ]
     },
     "execution_count": 20,
     "metadata": {},
     "output_type": "execute_result"
    }
   ],
   "source": [
    "input_parameters = pd.Series(clf.feature_importances_,index=iris.feature_names).sort_values(ascending=False)\n",
    "input_parameters.index"
   ]
  },
  {
   "cell_type": "markdown",
   "id": "180a36f3",
   "metadata": {},
   "source": [
    "From the above we can see that Petal parameters (its length in particular) play a more significant role in determening the classification of an Iris flower than Sepal parameters. Let us try to visualise this."
   ]
  },
  {
   "cell_type": "code",
   "execution_count": 21,
   "id": "0b17fe8a",
   "metadata": {},
   "outputs": [
    {
     "data": {
      "text/plain": [
       "Text(0, 0.5, 'Input Parameters')"
      ]
     },
     "execution_count": 21,
     "metadata": {},
     "output_type": "execute_result"
    },
    {
     "data": {
      "image/png": "[encoded data removed]",
      "text/plain": [
       "<Figure size 720x504 with 1 Axes>"
      ]
     },
     "metadata": {
      "needs_background": "light"
     },
     "output_type": "display_data"
    }
   ],
   "source": [
    "import matplotlib.pyplot as plt\n",
    "plt.rcParams['figure.figsize'] = [10, 7]\n",
    "\n",
    "plt.bar(input_parameters.index,input_parameters.values)\n",
    "plt.title('Input Parameters Importance')\n",
    "plt.xlabel('Input Importance Score')\n",
    "plt.ylabel('Input Parameters')\n"
   ]
  },
  {
   "cell_type": "markdown",
   "id": "b5a230dc",
   "metadata": {},
   "source": [
    "**Conclusion:**"
   ]
  },
  {
   "cell_type": "markdown",
   "id": "a68ce035",
   "metadata": {},
   "source": [
    "In this Jupyter Notebook we have managed to build a classification model for the Iris Flower Dataset using the Random Forrest Algorithm by focusing on the Petal and Sepal features of the Iris Flower.The input parameters of the petal play a significant role in determining the classification prediction whilst the parameter of sepal width seems to be of little importance. According to the accuracy function and my own calculationsthe model produces an accurate prediction over 90% of the time.\n",
    "\n"
   ]
  }
 ],
 "metadata": {
  "kernelspec": {
   "display_name": "Python 3 (ipykernel)",
   "language": "python",
   "name": "python3"
  },
  "language_info": {
   "codemirror_mode": {
    "name": "ipython",
    "version": 3
   },
   "file_extension": ".py",
   "mimetype": "text/x-python",
   "name": "python",
   "nbconvert_exporter": "python",
   "pygments_lexer": "ipython3",
   "version": "3.10.0"
  }
 },
 "nbformat": 4,
 "nbformat_minor": 5
}
